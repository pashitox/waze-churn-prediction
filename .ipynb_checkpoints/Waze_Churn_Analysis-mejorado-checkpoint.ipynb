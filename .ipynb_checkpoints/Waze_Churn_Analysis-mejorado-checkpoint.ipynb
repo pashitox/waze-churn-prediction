{
 "cells": [
  {
   "cell_type": "markdown",
   "id": "37cd87e0",
   "metadata": {},
   "source": [
    "### 🔹 Paso 1: Importar bibliotecas"
   ]
  },
  {
   "cell_type": "code",
   "execution_count": null,
   "id": "95ff505d",
   "metadata": {},
   "outputs": [],
   "source": [
    "import pandas as pd\n",
    "import numpy as np\n",
    "import matplotlib.pyplot as plt\n",
    "import seaborn as sns\n",
    "from sklearn.model_selection import train_test_split\n",
    "from sklearn.ensemble import RandomForestClassifier\n",
    "from xgboost import XGBClassifier\n",
    "from sklearn.metrics import classification_report, confusion_matrix, roc_auc_score"
   ]
  },
  {
   "cell_type": "markdown",
   "id": "b3c6a31b",
   "metadata": {},
   "source": [
    "### 🔹 Paso 2: Cargar y explorar los datos"
   ]
  },
  {
   "cell_type": "code",
   "execution_count": null,
   "id": "05e28497",
   "metadata": {},
   "outputs": [],
   "source": [
    "waze = pd.read_csv(\"waze_dataset.csv\")\n",
    "print(waze.head())\n",
    "print(waze.info())"
   ]
  },
  {
   "cell_type": "markdown",
   "id": "cde946ac",
   "metadata": {},
   "source": [
    "### 🔹 Paso 3: Preprocesamiento de datos"
   ]
  },
  {
   "cell_type": "code",
   "execution_count": null,
   "id": "f3aff1d1",
   "metadata": {},
   "outputs": [],
   "source": [
    "waze = waze.dropna(subset=['label'])\n",
    "waze['churned'] = waze['label'].map({'retained': 0, 'churned': 1})\n",
    "waze = pd.get_dummies(waze, columns=['device'], drop_first=True)\n",
    "waze.drop(['ID', 'label'], axis=1, inplace=True)\n",
    "print(waze.head())\n",
    "print(waze.info())"
   ]
  },
  {
   "cell_type": "markdown",
   "id": "5c895e8e",
   "metadata": {},
   "source": [
    "### 🔹 Paso 4: Separar variables predictoras y objetivo"
   ]
  },
  {
   "cell_type": "code",
   "execution_count": null,
   "id": "6cfe8bf8",
   "metadata": {},
   "outputs": [],
   "source": [
    "X = waze.drop(\"churned\", axis=1)\n",
    "y = waze[\"churned\"]\n",
    "X_train, X_test, y_train, y_test = train_test_split(X, y, test_size=0.2, random_state=42)"
   ]
  },
  {
   "cell_type": "markdown",
   "id": "90c25e0c",
   "metadata": {},
   "source": [
    "### 🔹 Paso 5: Modelo Random Forest"
   ]
  },
  {
   "cell_type": "code",
   "execution_count": null,
   "id": "a556f2f3",
   "metadata": {},
   "outputs": [],
   "source": [
    "rf = RandomForestClassifier(random_state=42)\n",
    "rf.fit(X_train, y_train)\n",
    "y_pred_rf = rf.predict(X_test)\n",
    "print(\"Random Forest Report:\")\n",
    "print(classification_report(y_test, y_pred_rf))\n",
    "print(\"ROC-AUC:\", roc_auc_score(y_test, rf.predict_proba(X_test)[:, 1]))"
   ]
  },
  {
   "cell_type": "markdown",
   "id": "b6dba5a8",
   "metadata": {},
   "source": [
    "### 🔹 Paso 6: Random Forest con balanceo"
   ]
  },
  {
   "cell_type": "code",
   "execution_count": null,
   "id": "5398a6fd",
   "metadata": {},
   "outputs": [],
   "source": [
    "rf_balanced = RandomForestClassifier(class_weight='balanced', random_state=42)\n",
    "rf_balanced.fit(X_train, y_train)\n",
    "y_pred_rf_balanced = rf_balanced.predict(X_test)\n",
    "print(\"Random Forest con class_weight='balanced'\")\n",
    "print(classification_report(y_test, y_pred_rf_balanced))\n",
    "print(\"ROC-AUC:\", roc_auc_score(y_test, rf_balanced.predict_proba(X_test)[:, 1]))"
   ]
  },
  {
   "cell_type": "markdown",
   "id": "1df23b56",
   "metadata": {},
   "source": [
    "### 🔹 Paso 7: Modelo XGBoost"
   ]
  },
  {
   "cell_type": "code",
   "execution_count": null,
   "id": "4feea149",
   "metadata": {},
   "outputs": [],
   "source": [
    "xgb = XGBClassifier(eval_metric='logloss', random_state=42)\n",
    "xgb.fit(X_train, y_train)\n",
    "y_pred_xgb = xgb.predict(X_test)\n",
    "print(\"XGBoost Report:\")\n",
    "print(classification_report(y_test, y_pred_xgb))\n",
    "print(\"ROC-AUC:\", roc_auc_score(y_test, xgb.predict_proba(X_test)[:, 1]))"
   ]
  },
  {
   "cell_type": "markdown",
   "id": "a4b9d3fa",
   "metadata": {},
   "source": [
    "### 🔹 Paso 8: Importancia de variables"
   ]
  },
  {
   "cell_type": "code",
   "execution_count": null,
   "id": "0fce5fa8",
   "metadata": {},
   "outputs": [],
   "source": [
    "feat_importances = pd.Series(rf.feature_importances_, index=X.columns)\n",
    "feat_importances.nlargest(10).plot(kind='barh')\n",
    "plt.title(\"Top 10 Features - Random Forest\")\n",
    "plt.tight_layout()\n",
    "plt.show()"
   ]
  },
  {
   "cell_type": "markdown",
   "id": "f5221a5b",
   "metadata": {},
   "source": [
    "### 🔹 Paso 9: Análisis de usuarios recientes"
   ]
  },
  {
   "cell_type": "code",
   "execution_count": null,
   "id": "f7aaf297",
   "metadata": {},
   "outputs": [],
   "source": [
    "X_test['es_reciente'] = X_test['n_days_after_onboarding'] < 500\n",
    "print(X_test['es_reciente'].value_counts())\n",
    "recientes_idx = X_test['es_reciente']\n",
    "print(classification_report(y_test[recientes_idx], y_pred_xgb[recientes_idx]))"
   ]
  },
  {
   "cell_type": "markdown",
   "id": "669158a0",
   "metadata": {},
   "source": [
    "### 🔹 Paso 10: Comparación de grupos"
   ]
  },
  {
   "cell_type": "code",
   "execution_count": null,
   "id": "4861cb86",
   "metadata": {},
   "outputs": [],
   "source": [
    "fn_idx = (y_test == 1) & (y_pred_xgb == 0) & (X_test['es_reciente'])\n",
    "tp_idx = (y_test == 1) & (y_pred_xgb == 1) & (X_test['es_reciente'])\n",
    "resto_idx = ~X_test['es_reciente']\n",
    "variables = ['n_days_after_onboarding', 'drives', 'sessions', 'total_navigations_fav1']\n",
    "comparacion = pd.DataFrame({\n",
    "    'Falsos Negativos': X_test.loc[fn_idx, variables].mean(),\n",
    "    'Verdaderos Positivos': X_test.loc[tp_idx, variables].mean(),\n",
    "    'Usuarios No Recientes': X_test.loc[resto_idx, variables].mean()\n",
    "})\n",
    "print(comparacion)"
   ]
  },
  {
   "cell_type": "markdown",
   "id": "79861756",
   "metadata": {},
   "source": [
    "### 🔹 Paso 11: Visualización comparativa"
   ]
  },
  {
   "cell_type": "code",
   "execution_count": null,
   "id": "2bd14cf7",
   "metadata": {},
   "outputs": [],
   "source": [
    "X_test_plot = X_test.copy()\n",
    "X_test_plot['grupo'] = 'Otro'\n",
    "X_test_plot.loc[fn_idx, 'grupo'] = 'Falsos Negativos Recientes'\n",
    "X_test_plot.loc[tp_idx, 'grupo'] = 'Verdaderos Positivos Recientes'\n",
    "mask = X_test_plot['grupo'].isin(['Falsos Negativos Recientes', 'Verdaderos Positivos Recientes'])\n",
    "plt.figure(figsize=(10,6))\n",
    "sns.boxplot(\n",
    "    data=X_test_plot[mask],\n",
    "    x='grupo',\n",
    "    y='total_navigations_fav1',\n",
    "    hue='grupo',\n",
    "    palette='Set2',\n",
    "    legend=False\n",
    ")\n",
    "plt.title(\"Distribución de 'total_navigations_fav1' en usuarios recientes\")\n",
    "plt.ylabel(\"Total de Navegaciones en Zona Favorita 1\")\n",
    "plt.xlabel(\"\")\n",
    "plt.xticks(rotation=15)\n",
    "plt.grid(axis='y')\n",
    "plt.tight_layout()\n",
    "plt.show()"
   ]
  }
 ],
 "metadata": {},
 "nbformat": 4,
 "nbformat_minor": 5
}