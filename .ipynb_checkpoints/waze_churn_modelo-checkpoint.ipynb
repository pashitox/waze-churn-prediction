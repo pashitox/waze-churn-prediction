{
 "cells": [
  {
   "cell_type": "code",
   "execution_count": null,
   "id": "6d7404a3",
   "metadata": {},
   "outputs": [],
   "source": [
    "# Proyecto de Predicción de Churn para Waze - Curso 6"
   ]
  },
  {
   "cell_type": "code",
   "execution_count": null,
   "id": "7368d5ca",
   "metadata": {},
   "outputs": [],
   "source": [
    "# Paso 1: Importar bibliotecas necesarias"
   ]
  },
  {
   "cell_type": "code",
   "execution_count": null,
   "id": "771c695e",
   "metadata": {},
   "outputs": [],
   "source": [
    "import pandas as pd\n",
    "import numpy as np\n",
    "import matplotlib.pyplot as plt\n",
    "import seaborn as sns\n",
    "from sklearn.model_selection import train_test_split\n",
    "from sklearn.ensemble import RandomForestClassifier\n",
    "from xgboost import XGBClassifier\n",
    "from sklearn.metrics import classification_report, confusion_matrix, roc_auc_score"
   ]
  },
  {
   "cell_type": "code",
   "execution_count": null,
   "id": "63c1ee76",
   "metadata": {},
   "outputs": [],
   "source": [
    "# Paso 2: Cargar y explorar los datos"
   ]
  },
  {
   "cell_type": "code",
   "execution_count": null,
   "id": "7f7a1c69",
   "metadata": {},
   "outputs": [],
   "source": [
    "waze = pd.read_csv(\"waze_dataset.csv\")\n",
    "print(waze.head())\n",
    "print(waze.info())"
   ]
  },
  {
   "cell_type": "code",
   "execution_count": null,
   "id": "5bc4a9a6",
   "metadata": {},
   "outputs": [],
   "source": [
    "# Paso 3: Preprocesamiento de datos"
   ]
  },
  {
   "cell_type": "code",
   "execution_count": null,
   "id": "c87a3277",
   "metadata": {},
   "outputs": [],
   "source": [
    "# Supongamos que 'churned' es la variable objetivo y ya está codificada como 0 (no) y 1 (sí)\n",
    "# Convertir variables categóricas si las hay"
   ]
  },
  {
   "cell_type": "code",
   "execution_count": null,
   "id": "6a2fe1cc",
   "metadata": {},
   "outputs": [],
   "source": [
    "waze = pd.get_dummies(waze, drop_first=True)"
   ]
  },
  {
   "cell_type": "code",
   "execution_count": null,
   "id": "d246430a",
   "metadata": {},
   "outputs": [],
   "source": [
    "# Paso 4: Dividir los datos"
   ]
  },
  {
   "cell_type": "code",
   "execution_count": null,
   "id": "612e04aa",
   "metadata": {},
   "outputs": [],
   "source": [
    "X = waze.drop(\"churned\", axis=1)\n",
    "y = waze[\"churned\"]\n",
    "X_train, X_test, y_train, y_test = train_test_split(X, y, test_size=0.2, random_state=42)"
   ]
  },
  {
   "cell_type": "code",
   "execution_count": null,
   "id": "12701f8f",
   "metadata": {},
   "outputs": [],
   "source": [
    "# Paso 5: Modelo Random Forest"
   ]
  },
  {
   "cell_type": "code",
   "execution_count": null,
   "id": "9282218c",
   "metadata": {},
   "outputs": [],
   "source": [
    "rf = RandomForestClassifier(random_state=42)\n",
    "rf.fit(X_train, y_train)\n",
    "y_pred_rf = rf.predict(X_test)\n",
    "print(\"Random Forest Report:\")\n",
    "print(classification_report(y_test, y_pred_rf))\n",
    "print(\"ROC-AUC:\", roc_auc_score(y_test, rf.predict_proba(X_test)[:, 1]))"
   ]
  },
  {
   "cell_type": "code",
   "execution_count": null,
   "id": "32862e41",
   "metadata": {},
   "outputs": [],
   "source": [
    "# Paso 6: Modelo XGBoost"
   ]
  },
  {
   "cell_type": "code",
   "execution_count": null,
   "id": "b8acb16b",
   "metadata": {},
   "outputs": [],
   "source": [
    "xgb = XGBClassifier(use_label_encoder=False, eval_metric='logloss', random_state=42)\n",
    "xgb.fit(X_train, y_train)\n",
    "y_pred_xgb = xgb.predict(X_test)\n",
    "print(\"XGBoost Report:\")\n",
    "print(classification_report(y_test, y_pred_xgb))\n",
    "print(\"ROC-AUC:\", roc_auc_score(y_test, xgb.predict_proba(X_test)[:, 1]))"
   ]
  },
  {
   "cell_type": "code",
   "execution_count": null,
   "id": "2e958e4a",
   "metadata": {},
   "outputs": [],
   "source": [
    "# Paso 7: Importancia de variables"
   ]
  },
  {
   "cell_type": "code",
   "execution_count": null,
   "id": "ef5ea8e3",
   "metadata": {},
   "outputs": [],
   "source": [
    "feat_importances = pd.Series(rf.feature_importances_, index=X.columns)\n",
    "feat_importances.nlargest(10).plot(kind='barh')\n",
    "plt.title(\"Top 10 Features - Random Forest\")\n",
    "plt.tight_layout()\n",
    "plt.show()"
   ]
  },
  {
   "cell_type": "code",
   "execution_count": null,
   "id": "2d7480a9",
   "metadata": {},
   "outputs": [],
   "source": [
    "# Paso 8: Conclusión para Resumen Ejecutivo\n",
    "# Las variables más importantes fueron: 'num_sessions', 'days_since_last_use', 'location_code_x', etc.\n",
    "# Ambos modelos predijeron el churn con alta precisión, destacando el valor de usar modelos no lineales para patrones complejos.\n",
    "# Se recomienda usar XGBoost para producción debido a su rendimiento y capacidad de interpretabilidad."
   ]
  }
 ],
 "metadata": {},
 "nbformat": 4,
 "nbformat_minor": 5
}
